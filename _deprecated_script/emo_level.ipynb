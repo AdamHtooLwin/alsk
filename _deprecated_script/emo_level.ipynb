{
 "cells": [
  {
   "cell_type": "code",
   "execution_count": 8,
   "metadata": {
    "pycharm": {
     "is_executing": false,
     "name": "#%%\n"
    }
   },
   "outputs": [
    {
     "name": "stdout",
     "output_type": "stream",
     "text": [
      "Emotion    : Sad\n",
      "Intensity  : High\n",
      "Theta      : 213.69 degree\n",
      "Quadrant   : 3.1\n"
     ]
    }
   ],
   "source": [
    "import math\n",
    "\n",
    "def emo_lev(arousal,valence):    #Function that returns emotion and intensity\n",
    "    arousal -= 5\n",
    "    valence -= 5\n",
    "    r = 5\n",
    "    x, y = valence, arousal\n",
    "    dist = (x**2+y**2)**0.5\n",
    "\n",
    "    #Calc theta in radian\n",
    "    theta = math.atan(y/x)\n",
    "\n",
    "    #Convert theta from rad to deg\n",
    "    theta = 180 * theta/math.pi\n",
    "\n",
    "    def lev(dist):\n",
    "        if(dist<1.67):\n",
    "            return \"Low\"\n",
    "        if(dist>1.67 and dist<3.34):\n",
    "            return \"Medium\"\n",
    "        else:\n",
    "            return \"High\"\n",
    "        \n",
    "    #Check which intensity\n",
    "    levl = lev(dist)\n",
    "\n",
    "\n",
    "    def conv_emo(theta):\n",
    "        if(x>0 and y>0):  #1st Quadrant\n",
    "            if theta <= 90:\n",
    "                if(theta<45):\n",
    "                    return \"Happy\",1.1,theta  #1st Quad, 1st half\n",
    "                else:\n",
    "                    return \"Excited\",1.2,theta #1st Quad, 2nd half\n",
    "        else:\n",
    "            if(x>0 and y<0): #4\n",
    "                theta+=360\n",
    "                quad = 4\n",
    "                if theta <= 360:\n",
    "                    if(theta<315):\n",
    "                        return \"Calm\",4.1,theta\n",
    "                    else:\n",
    "                        return \"Content\",4.2,theta\n",
    "            else:\n",
    "                if(x<0 and y>0): #2\n",
    "                    theta+=180\n",
    "                    quad = 2\n",
    "                    if theta <= 180:\n",
    "                        if(theta<135):\n",
    "                            return \"Angry\",2.1,theta\n",
    "                        else:\n",
    "                            return \"Afraid\",2.2,theta\n",
    "                else:\n",
    "                    if(x<0 and y<0):\n",
    "                       theta+=180\n",
    "                       if theta <= 270:\n",
    "                            if(theta<225):\n",
    "                                return \"Sad\",3.1,theta\n",
    "                            else:\n",
    "                                return \"Depressed\",3.2,theta\n",
    "                       \n",
    "                   \n",
    "    #print(\"Theta before conversion: {}\".format(theta))\n",
    "    emo,quad,theta = conv_emo(theta)\n",
    "    #print(\"Distance = {} \\nTheta after conversion = {} \\nquadrant = {} \".format(dist,theta,quad))\n",
    "    return emo,levl,theta,quad    #END of emo_lev\n",
    "\n",
    "#Input the valence, arousal values here.\n",
    "valence_x, arousal_y = 2,3\n",
    "emotion, level, theta,quadrant = emo_lev(arousal_y,valence_x)\n",
    "\n",
    "#Optional printing. Just return the values you need if you want.\n",
    "print(\"Emotion    : \"+emotion)\n",
    "print(\"Intensity  : \"+level)\n",
    "print(\"Theta      : {} degree\".format(\"%.2f\"%theta))\n",
    "print(\"Quadrant   : {}\".format(quadrant))"
   ]
  },
  {
   "cell_type": "code",
   "execution_count": 9,
   "metadata": {
    "pycharm": {
     "is_executing": false,
     "name": "#%%\n"
    }
   },
   "outputs": [
    {
     "ename": "RuntimeError",
     "evalue": "Error(s) in loading state_dict for MiniLSTM:\n\tMissing key(s) in state_dict: \"lstm1.weight_ih_l0\", \"lstm1.weight_hh_l0\", \"lstm1.bias_ih_l0\", \"lstm1.bias_hh_l0\", \"fc.weight\", \"fc.bias\". \n\tUnexpected key(s) in state_dict: \"tcn.network.0.conv1.bias\", \"tcn.network.0.conv1.weight_g\", \"tcn.network.0.conv1.weight_v\", \"tcn.network.0.conv2.bias\", \"tcn.network.0.conv2.weight_g\", \"tcn.network.0.conv2.weight_v\", \"tcn.network.0.net.0.bias\", \"tcn.network.0.net.0.weight_g\", \"tcn.network.0.net.0.weight_v\", \"tcn.network.0.net.4.bias\", \"tcn.network.0.net.4.weight_g\", \"tcn.network.0.net.4.weight_v\", \"tcn.network.0.downsample.weight\", \"tcn.network.0.downsample.bias\", \"tcn.network.1.conv1.bias\", \"tcn.network.1.conv1.weight_g\", \"tcn.network.1.conv1.weight_v\", \"tcn.network.1.conv2.bias\", \"tcn.network.1.conv2.weight_g\", \"tcn.network.1.conv2.weight_v\", \"tcn.network.1.net.0.bias\", \"tcn.network.1.net.0.weight_g\", \"tcn.network.1.net.0.weight_v\", \"tcn.network.1.net.4.bias\", \"tcn.network.1.net.4.weight_g\", \"tcn.network.1.net.4.weight_v\", \"tcn.network.1.downsample.weight\", \"tcn.network.1.downsample.bias\", \"tcn.network.2.conv1.bias\", \"tcn.network.2.conv1.weight_g\", \"tcn.network.2.conv1.weight_v\", \"tcn.network.2.conv2.bias\", \"tcn.network.2.conv2.weight_g\", \"tcn.network.2.conv2.weight_v\", \"tcn.network.2.net.0.bias\", \"tcn.network.2.net.0.weight_g\", \"tcn.network.2.net.0.weight_v\", \"tcn.network.2.net.4.bias\", \"tcn.network.2.net.4.weight_g\", \"tcn.network.2.net.4.weight_v\", \"tcn.network.2.downsample.weight\", \"tcn.network.2.downsample.bias\". ",
     "output_type": "error",
     "traceback": [
      "\u001b[0;31m---------------------------------------------------------------------------\u001b[0m",
      "\u001b[0;31mRuntimeError\u001b[0m                              Traceback (most recent call last)",
      "\u001b[0;32m<ipython-input-9-3c1279a72f0f>\u001b[0m in \u001b[0;36m<module>\u001b[0;34m\u001b[0m\n\u001b[1;32m     20\u001b[0m \u001b[0mmodel\u001b[0m \u001b[0;34m=\u001b[0m \u001b[0mMiniLSTM\u001b[0m\u001b[0;34m(\u001b[0m\u001b[0mHIDDEN_SIZE1\u001b[0m\u001b[0;34m,\u001b[0m \u001b[0;36m1\u001b[0m\u001b[0;34m)\u001b[0m\u001b[0;34m\u001b[0m\u001b[0;34m\u001b[0m\u001b[0m\n\u001b[1;32m     21\u001b[0m \u001b[0;34m\u001b[0m\u001b[0m\n\u001b[0;32m---> 22\u001b[0;31m \u001b[0mmodel\u001b[0m\u001b[0;34m.\u001b[0m\u001b[0mload_state_dict\u001b[0m\u001b[0;34m(\u001b[0m\u001b[0mtorch\u001b[0m\u001b[0;34m.\u001b[0m\u001b[0mload\u001b[0m\u001b[0;34m(\u001b[0m\u001b[0mMDL_PATH\u001b[0m\u001b[0;34m,\u001b[0m \u001b[0mmap_location\u001b[0m\u001b[0;34m=\u001b[0m\u001b[0;34m\"cpu\"\u001b[0m\u001b[0;34m)\u001b[0m\u001b[0;34m)\u001b[0m\u001b[0;34m\u001b[0m\u001b[0;34m\u001b[0m\u001b[0m\n\u001b[0m\u001b[1;32m     23\u001b[0m \u001b[0mmodel\u001b[0m\u001b[0;34m.\u001b[0m\u001b[0meval\u001b[0m\u001b[0;34m(\u001b[0m\u001b[0;34m)\u001b[0m\u001b[0;34m\u001b[0m\u001b[0;34m\u001b[0m\u001b[0m\n\u001b[1;32m     24\u001b[0m \u001b[0;34m\u001b[0m\u001b[0m\n",
      "\u001b[0;32m~/.pyenv/versions/3.7.6/lib/python3.7/site-packages/torch/nn/modules/module.py\u001b[0m in \u001b[0;36mload_state_dict\u001b[0;34m(self, state_dict, strict)\u001b[0m\n\u001b[1;32m    828\u001b[0m         \u001b[0;32mif\u001b[0m \u001b[0mlen\u001b[0m\u001b[0;34m(\u001b[0m\u001b[0merror_msgs\u001b[0m\u001b[0;34m)\u001b[0m \u001b[0;34m>\u001b[0m \u001b[0;36m0\u001b[0m\u001b[0;34m:\u001b[0m\u001b[0;34m\u001b[0m\u001b[0;34m\u001b[0m\u001b[0m\n\u001b[1;32m    829\u001b[0m             raise RuntimeError('Error(s) in loading state_dict for {}:\\n\\t{}'.format(\n\u001b[0;32m--> 830\u001b[0;31m                                self.__class__.__name__, \"\\n\\t\".join(error_msgs)))\n\u001b[0m\u001b[1;32m    831\u001b[0m         \u001b[0;32mreturn\u001b[0m \u001b[0m_IncompatibleKeys\u001b[0m\u001b[0;34m(\u001b[0m\u001b[0mmissing_keys\u001b[0m\u001b[0;34m,\u001b[0m \u001b[0munexpected_keys\u001b[0m\u001b[0;34m)\u001b[0m\u001b[0;34m\u001b[0m\u001b[0;34m\u001b[0m\u001b[0m\n\u001b[1;32m    832\u001b[0m \u001b[0;34m\u001b[0m\u001b[0m\n",
      "\u001b[0;31mRuntimeError\u001b[0m: Error(s) in loading state_dict for MiniLSTM:\n\tMissing key(s) in state_dict: \"lstm1.weight_ih_l0\", \"lstm1.weight_hh_l0\", \"lstm1.bias_ih_l0\", \"lstm1.bias_hh_l0\", \"fc.weight\", \"fc.bias\". \n\tUnexpected key(s) in state_dict: \"tcn.network.0.conv1.bias\", \"tcn.network.0.conv1.weight_g\", \"tcn.network.0.conv1.weight_v\", \"tcn.network.0.conv2.bias\", \"tcn.network.0.conv2.weight_g\", \"tcn.network.0.conv2.weight_v\", \"tcn.network.0.net.0.bias\", \"tcn.network.0.net.0.weight_g\", \"tcn.network.0.net.0.weight_v\", \"tcn.network.0.net.4.bias\", \"tcn.network.0.net.4.weight_g\", \"tcn.network.0.net.4.weight_v\", \"tcn.network.0.downsample.weight\", \"tcn.network.0.downsample.bias\", \"tcn.network.1.conv1.bias\", \"tcn.network.1.conv1.weight_g\", \"tcn.network.1.conv1.weight_v\", \"tcn.network.1.conv2.bias\", \"tcn.network.1.conv2.weight_g\", \"tcn.network.1.conv2.weight_v\", \"tcn.network.1.net.0.bias\", \"tcn.network.1.net.0.weight_g\", \"tcn.network.1.net.0.weight_v\", \"tcn.network.1.net.4.bias\", \"tcn.network.1.net.4.weight_g\", \"tcn.network.1.net.4.weight_v\", \"tcn.network.1.downsample.weight\", \"tcn.network.1.downsample.bias\", \"tcn.network.2.conv1.bias\", \"tcn.network.2.conv1.weight_g\", \"tcn.network.2.conv1.weight_v\", \"tcn.network.2.conv2.bias\", \"tcn.network.2.conv2.weight_g\", \"tcn.network.2.conv2.weight_v\", \"tcn.network.2.net.0.bias\", \"tcn.network.2.net.0.weight_g\", \"tcn.network.2.net.0.weight_v\", \"tcn.network.2.net.4.bias\", \"tcn.network.2.net.4.weight_g\", \"tcn.network.2.net.4.weight_v\", \"tcn.network.2.downsample.weight\", \"tcn.network.2.downsample.bias\". "
     ]
    }
   ],
   "source": [
    "from models.lstm import *\n",
    "from dataset.DEAP_DATASET import ModularDeapDataset\n",
    "from torch.utils.data import DataLoader\n",
    "import torch\n",
    "from util.train import select_last_elm\n",
    "\n",
    "DATA_SET_PATH = 'dataset/'\n",
    "deap_val = ModularDeapDataset(DATA_SET_PATH, train=False)\n",
    "deap_train = ModularDeapDataset(DATA_SET_PATH, train=True)\n",
    "train_loader = DataLoader(deap_train, shuffle=True, batch_size=1)\n",
    "val_loader = DataLoader(deap_val, shuffle=True, batch_size=1)\n",
    "\n",
    "INPUT_SIZE = 40\n",
    "HIDDEN_SIZE1 = 64\n",
    "HIDDEN_SIZE2 = 32\n",
    "OUTPUT_SIZE = 4\n",
    "\n",
    "MDL_PATH = 'models/saved_weights/tcn_v0.pth'\n",
    "\n",
    "model = EEG_TCN(HIDDEN_SIZE1, 1)\n",
    "\n",
    "model.load_state_dict(torch.load(MDL_PATH, map_location=\"cpu\"))\n",
    "model.eval()\n",
    "\n",
    "with torch.no_grad():\n",
    "    for i, (signal, label) in enumerate(train_loader):\n",
    "        hidden = model.initHidden()\n",
    "        output = model(signal, hidden)\n",
    "        output = select_last_elm(output, \"cpu\")\n",
    "        output = output.numpy()\n",
    "        label = label.numpy()\n",
    "        print(\"Predicted:\", output, \"Actual Label:\", label)\n",
    "        \n",
    "        emotion, level, theta,quadrant = emo_lev(output[0][1],output[0][0])\n",
    "        print(\"PREDICTED\",output)\n",
    "        print(\"\\tEmotion    : \"+emotion)\n",
    "        print(\"\\tIntensity  : \"+level)\n",
    "        print(\"\\tTheta      : {} degree\".format(\"%.2f\"%theta))\n",
    "        print(\"\\tQuadrant   : {}\".format(quadrant))\n",
    "        \n",
    "        emotion, level, theta,quadrant = emo_lev(label[0][1],label[0][0])\n",
    "        print(\"ACTUAL\",label)\n",
    "        print(\"\\tEmotion    : \"+emotion)\n",
    "        print(\"\\tIntensity  : \"+level)\n",
    "        print(\"\\tTheta      : {} degree\".format(\"%.2f\"%theta))\n",
    "        print(\"\\tQuadrant   : {}\".format(quadrant))\n"
   ]
  },
  {
   "cell_type": "code",
   "execution_count": null,
   "metadata": {},
   "outputs": [],
   "source": []
  }
 ],
 "metadata": {
  "kernelspec": {
   "display_name": "Python 3",
   "language": "python",
   "name": "python3"
  },
  "language_info": {
   "codemirror_mode": {
    "name": "ipython",
    "version": 3
   },
   "file_extension": ".py",
   "mimetype": "text/x-python",
   "name": "python",
   "nbconvert_exporter": "python",
   "pygments_lexer": "ipython3",
   "version": "3.7.6"
  },
  "pycharm": {
   "stem_cell": {
    "cell_type": "raw",
    "metadata": {
     "collapsed": false
    },
    "source": []
   }
  }
 },
 "nbformat": 4,
 "nbformat_minor": 4
}
